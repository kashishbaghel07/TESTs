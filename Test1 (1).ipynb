{
 "cells": [
  {
   "cell_type": "markdown",
   "id": "11e26522-733f-46d8-a982-4948e36ef001",
   "metadata": {},
   "source": [
    "##### 1. Second Largest Without Sorting\n",
    "Write a program to find the second largest number in a list without using sort() or max() more than once"
   ]
  },
  {
   "cell_type": "code",
   "execution_count": 58,
   "id": "189e094e-d884-484f-a542-4eb30ff3312f",
   "metadata": {},
   "outputs": [
    {
     "name": "stdout",
     "output_type": "stream",
     "text": [
      "set[[87, 45, 98, 3, 87, 23]]\n"
     ]
    }
   ],
   "source": [
    "l1 = [87,45,98,3,87,23]"
   ]
  },
  {
   "cell_type": "markdown",
   "id": "31d24af4-aa69-4845-b592-f93eabedd07f",
   "metadata": {},
   "source": [
    "##### 2. Missing Number in Range\n",
    "Input: a list of unique numbers from 1 to n (with one missing). Find the missing number using loops only.\n",
    "Example: [1, 2, 4, 5] → Output: 3\n"
   ]
  },
  {
   "cell_type": "code",
   "execution_count": 34,
   "id": "b5a365ae-e4ee-4bbb-b847-12e77fb35ca5",
   "metadata": {},
   "outputs": [
    {
     "name": "stdout",
     "output_type": "stream",
     "text": [
      "missing: [3, 5]\n"
     ]
    }
   ],
   "source": [
    "n = [0,1,2,4,6,7,8,9]\n",
    "missing = []\n",
    "for i in range(1,9):\n",
    "    if i not in n:\n",
    "        missing.append(i)\n",
    "print(\"missing:\",missing)"
   ]
  },
  {
   "cell_type": "markdown",
   "id": "209c1368-06bb-41f2-a4dc-ceabaf1e8b74",
   "metadata": {},
   "source": [
    "##### 3. Count Consecutive Characters\n",
    "For a given string, count consecutive repeating characters and compress it.\n",
    "Example: \"aaabbccccd\" → \"a3b2c4d1\"\n"
   ]
  },
  {
   "cell_type": "code",
   "execution_count": null,
   "id": "de876c53-9d59-4b0e-93eb-8e285976cca9",
   "metadata": {},
   "outputs": [],
   "source": []
  },
  {
   "cell_type": "markdown",
   "id": "c4adfc53-7987-4c25-bb26-603cf349455c",
   "metadata": {},
   "source": [
    "##### 4. Check Balanced String\n",
    "A string is balanced if the number of vowels equals the number of consonants.\n",
    "Example: \"code\" → Balanced (2 vowels, 2 consonants)."
   ]
  },
  {
   "cell_type": "code",
   "execution_count": 35,
   "id": "ea25b9a5-9a6d-4166-bcc5-e033cccf41a7",
   "metadata": {},
   "outputs": [
    {
     "name": "stdin",
     "output_type": "stream",
     "text": [
      "Enter the string: racecar\n"
     ]
    },
    {
     "name": "stdout",
     "output_type": "stream",
     "text": [
      "Vowels: 3\n",
      "Consonants: 4\n"
     ]
    }
   ],
   "source": [
    "text = input(\"Enter the string:\")\n",
    "vowels=a=e=i=o=u=0\n",
    "consonants = 0 \n",
    "\n",
    "for ch in text:\n",
    "    if ch == \"a\":\n",
    "        vowels += 1\n",
    "    elif ch == \"e\":\n",
    "        vowels += 1\n",
    "    elif ch == \"i\":\n",
    "        vowels += 1\n",
    "    elif ch == \"o\":\n",
    "        vowels += 1\n",
    "    elif ch == \"u\":\n",
    "        vowels += 1\n",
    "    else:\n",
    "        consonants += 1\n",
    "print(\"Vowels:\",vowels)\n",
    "print(\"Consonants:\",consonants)\n"
   ]
  },
  {
   "cell_type": "markdown",
   "id": "3b1f174f-1c11-4b24-adc9-4a5e41f74e6b",
   "metadata": {},
   "source": [
    "##### 5. List Element Difference\n",
    "Given a list, create a new list where each element is the difference between the largest element and the current element.\n",
    "Example: [4, 7, 2] → [3, 0, 5]\n"
   ]
  },
  {
   "cell_type": "code",
   "execution_count": null,
   "id": "b7de3436-c401-4356-a2f5-7392850a29c6",
   "metadata": {},
   "outputs": [],
   "source": []
  },
  {
   "cell_type": "markdown",
   "id": "82cb6461-81cc-4ba7-aa1d-0079ed7d4c9a",
   "metadata": {},
   "source": [
    "##### 6. Digit Rearrangement\n",
    "Take an integer and rearrange its digits in descending order.\n",
    "Example: 42153 → 54321"
   ]
  },
  {
   "cell_type": "code",
   "execution_count": 66,
   "id": "b02d3f5e-c736-4973-857c-fdb2e6c2f633",
   "metadata": {},
   "outputs": [
    {
     "ename": "AttributeError",
     "evalue": "'int' object has no attribute 'sort'",
     "output_type": "error",
     "traceback": [
      "\u001b[1;31m---------------------------------------------------------------------------\u001b[0m",
      "\u001b[1;31mAttributeError\u001b[0m                            Traceback (most recent call last)",
      "Cell \u001b[1;32mIn[66], line 2\u001b[0m\n\u001b[0;32m      1\u001b[0m k1 \u001b[38;5;241m=\u001b[39m \u001b[38;5;241m3456\u001b[39m\n\u001b[1;32m----> 2\u001b[0m k1\u001b[38;5;241m.\u001b[39msort()\n",
      "\u001b[1;31mAttributeError\u001b[0m: 'int' object has no attribute 'sort'"
     ]
    }
   ],
   "source": [
    "k1 = 3456\n",
    "k1.sort()"
   ]
  },
  {
   "cell_type": "markdown",
   "id": "58dc4d46-08f0-4a3d-b07e-a0e6163e845e",
   "metadata": {},
   "source": [
    "##### 7. Sum of Alternate Numbers\n",
    "Given a list of integers, find the sum of elements at even indices and at odd indices separately, then print which sum is larger."
   ]
  },
  {
   "cell_type": "code",
   "execution_count": 73,
   "id": "c9ba2312-d3cb-47d8-9104-465ed5c62f09",
   "metadata": {},
   "outputs": [
    {
     "name": "stdout",
     "output_type": "stream",
     "text": [
      "even: [0, 2, 4, 6, 8]\n",
      "odd: [1, 7, 9]\n"
     ]
    }
   ],
   "source": [
    "num = [0,1,2,4,6,7,8,9]\n",
    "even = []\n",
    "odd = []\n",
    "for i in num:\n",
    "    if i % 2 == 0:\n",
    "        even.append(i)\n",
    "    elif i % 2 != 0:\n",
    "        odd.append(i)\n",
    "print(\"even:\",even)\n",
    "print(\"odd:\",odd)\n"
   ]
  },
  {
   "cell_type": "markdown",
   "id": "b462de46-a8e2-4706-a5a9-dc680b8d20fa",
   "metadata": {},
   "source": [
    "##### 8. Flatten a Nested List\n",
    "Without using libraries, flatten a 2D list into a 1D list.\n",
    "Example: [[1,2], [3,4], [5]] → [1,2,3,4,5]"
   ]
  },
  {
   "cell_type": "markdown",
   "id": "acc9171f-4dc3-4ce8-9bf3-b60a6db0fb04",
   "metadata": {},
   "source": [
    "##### 10. Intersection of Two Lists\n",
    "Without using set(), find common elements between two lists."
   ]
  },
  {
   "cell_type": "code",
   "execution_count": 59,
   "id": "8b8ff08e-97a3-4c04-a8d3-cd0e87b80420",
   "metadata": {},
   "outputs": [
    {
     "data": {
      "text/plain": [
       "[1, 2, 3, 4]"
      ]
     },
     "execution_count": 59,
     "metadata": {},
     "output_type": "execute_result"
    }
   ],
   "source": [
    "a = [1,2,3,4]\n",
    "b = [3,4,5,6]\n"
   ]
  },
  {
   "cell_type": "markdown",
   "id": "b688ec67-d287-49f0-9595-5187fc9d6b5c",
   "metadata": {},
   "source": [
    "##### 11. Count Words Starting with Vowel\n",
    "Given a sentence, count how many words start with a vowel.\n",
    "Example: \"An elephant is under a tree\" → 3"
   ]
  },
  {
   "cell_type": "code",
   "execution_count": null,
   "id": "36a3e704-5b4d-4053-853b-818abf96db5a",
   "metadata": {},
   "outputs": [],
   "source": []
  },
  {
   "cell_type": "markdown",
   "id": "a557404c-1471-49d8-90a1-00d50552d311",
   "metadata": {},
   "source": [
    "##### 12. Pattern with Conditions\n",
    "Print a pyramid of numbers where each row contains only odd numbers up to n.\n",
    "Example (n=5):\n",
    "\n",
    "  1\n",
    " 3 5\n",
    "7 9 11"
   ]
  },
  {
   "cell_type": "code",
   "execution_count": 79,
   "id": "de4700f5-8ed7-46f4-a7f0-471b984cf773",
   "metadata": {},
   "outputs": [
    {
     "name": "stdout",
     "output_type": "stream",
     "text": [
      "  *\n",
      "   **\n",
      "    ***\n",
      "     ****\n",
      "      *****\n"
     ]
    }
   ],
   "source": [
    "n = 5\n",
    "for i in range(1,n+1):\n",
    "    print(\" \",\"*\"*i)\n"
   ]
  },
  {
   "cell_type": "code",
   "execution_count": null,
   "id": "54a7a05c-8e66-4bf5-91b6-4c2a7dd0426b",
   "metadata": {},
   "outputs": [],
   "source": []
  }
 ],
 "metadata": {
  "kernelspec": {
   "display_name": "Python [conda env:base] *",
   "language": "python",
   "name": "conda-base-py"
  },
  "language_info": {
   "codemirror_mode": {
    "name": "ipython",
    "version": 3
   },
   "file_extension": ".py",
   "mimetype": "text/x-python",
   "name": "python",
   "nbconvert_exporter": "python",
   "pygments_lexer": "ipython3",
   "version": "3.13.5"
  }
 },
 "nbformat": 4,
 "nbformat_minor": 5
}
