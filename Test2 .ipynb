{
 "cells": [
  {
   "cell_type": "markdown",
   "id": "10fec47d-aa54-4e02-8385-92b6e228bec9",
   "metadata": {},
   "source": [
    "##### 1. Find the 2nd largest and 2nd smallest element in a list."
   ]
  },
  {
   "cell_type": "code",
   "execution_count": 10,
   "id": "c8d297d3-420c-491e-80a8-44cd4030b323",
   "metadata": {},
   "outputs": [
    {
     "name": "stdout",
     "output_type": "stream",
     "text": [
      "second_smallest 25\n",
      "second_largest 86\n"
     ]
    }
   ],
   "source": [
    "l1 = [14,57,68,34,56,98,70,86,25]\n",
    "l2 = tuple(sorted(l1))\n",
    "second_smallest = l2[1]\n",
    "second_largest = l2[-2]\n",
    "print(\"second_smallest\",second_smallest)\n",
    "print(\"second_largest\",second_largest)"
   ]
  },
  {
   "cell_type": "markdown",
   "id": "ce0fd833-d444-4616-b259-7f8f069e2480",
   "metadata": {},
   "source": [
    "##### 2. Find the key with the largest value in a dictionary."
   ]
  },
  {
   "cell_type": "code",
   "execution_count": 17,
   "id": "86692c1a-8f65-4f45-ae26-03b8e994643f",
   "metadata": {},
   "outputs": [
    {
     "ename": "AttributeError",
     "evalue": "'builtin_function_or_method' object has no attribute 'value'",
     "output_type": "error",
     "traceback": [
      "\u001b[1;31m---------------------------------------------------------------------------\u001b[0m",
      "\u001b[1;31mAttributeError\u001b[0m                            Traceback (most recent call last)",
      "Cell \u001b[1;32mIn[17], line 3\u001b[0m\n\u001b[0;32m      1\u001b[0m d1 \u001b[38;5;241m=\u001b[39m {\u001b[38;5;124m\"\u001b[39m\u001b[38;5;124ma\u001b[39m\u001b[38;5;124m\"\u001b[39m: \u001b[38;5;241m10\u001b[39m, \u001b[38;5;124m\"\u001b[39m\u001b[38;5;124mb\u001b[39m\u001b[38;5;124m\"\u001b[39m: \u001b[38;5;241m20\u001b[39m , \u001b[38;5;124m\"\u001b[39m\u001b[38;5;124mc\u001b[39m\u001b[38;5;124m\"\u001b[39m:\u001b[38;5;241m30\u001b[39m}\n\u001b[1;32m----> 3\u001b[0m \u001b[38;5;28mprint\u001b[39m(\u001b[38;5;28mmax\u001b[39m(\u001b[38;5;28msorted\u001b[39m(d1\u001b[38;5;241m.\u001b[39mget\u001b[38;5;241m.\u001b[39mvalue)))\n",
      "\u001b[1;31mAttributeError\u001b[0m: 'builtin_function_or_method' object has no attribute 'value'"
     ]
    }
   ],
   "source": [
    "d1 = {\"a\": 10, \"b\": 20 , \"c\":30}\n",
    "\n",
    "print(max(sorted(d1.get.value)))"
   ]
  },
  {
   "cell_type": "markdown",
   "id": "3150c11f-e519-4a8e-b4d8-37c29a8fd743",
   "metadata": {},
   "source": [
    "##### 3. Create a new folder using os module and create a file inside it.f"
   ]
  },
  {
   "cell_type": "code",
   "execution_count": 76,
   "id": "0d271a2e-8040-436f-90db-31b901c26d91",
   "metadata": {},
   "outputs": [],
   "source": [
    "import os\n",
    "f = {\"abc.txt\",\"w\"}"
   ]
  },
  {
   "cell_type": "code",
   "execution_count": 78,
   "id": "5b4fd068-2be3-43a7-81fd-a6db104ddef7",
   "metadata": {},
   "outputs": [
    {
     "ename": "AttributeError",
     "evalue": "'set' object has no attribute 'read' and no __dict__ for setting new attributes",
     "output_type": "error",
     "traceback": [
      "\u001b[1;31m---------------------------------------------------------------------------\u001b[0m",
      "\u001b[1;31mAttributeError\u001b[0m                            Traceback (most recent call last)",
      "Cell \u001b[1;32mIn[78], line 1\u001b[0m\n\u001b[1;32m----> 1\u001b[0m f\u001b[38;5;241m.\u001b[39mread \u001b[38;5;241m=\u001b[39m (\u001b[38;5;124m\"\u001b[39m\u001b[38;5;124mhello\u001b[39m\u001b[38;5;124m\"\u001b[39m)\n\u001b[0;32m      2\u001b[0m f\u001b[38;5;241m.\u001b[39mclose()\n",
      "\u001b[1;31mAttributeError\u001b[0m: 'set' object has no attribute 'read' and no __dict__ for setting new attributes"
     ]
    }
   ],
   "source": []
  },
  {
   "cell_type": "markdown",
   "id": "caec738e-5173-44f4-b8a5-2e01635a5f9f",
   "metadata": {},
   "source": [
    "##### 4. Write a recursive function to calculate Fibonacci series up to n terms. \n"
   ]
  },
  {
   "cell_type": "code",
   "execution_count": 103,
   "id": "90d0ed19-43df-4ed1-bcac-7a83fb4c1c89",
   "metadata": {},
   "outputs": [
    {
     "name": "stdout",
     "output_type": "stream",
     "text": [
      "0 1 1 2 3 5 8 "
     ]
    }
   ],
   "source": [
    "a,b = 0,1\n",
    "n = 7\n",
    "for i in range(1,n+1):\n",
    "    print(a,end=\" \")\n",
    "    a,b = b, a+b"
   ]
  },
  {
   "cell_type": "markdown",
   "id": "6292a833-0412-4e97-8303-2b11ecf03e2d",
   "metadata": {},
   "source": [
    "##### 5. Use a lambda with map() to convert a list of integers into their cubes. "
   ]
  },
  {
   "cell_type": "code",
   "execution_count": 99,
   "id": "7af0fc48-2e7b-45c7-b4ab-ba9712fdfea2",
   "metadata": {},
   "outputs": [
    {
     "name": "stdout",
     "output_type": "stream",
     "text": [
      "cubes: [1, 8, 27, 64, 125, 216, 343, 512, 729]\n"
     ]
    }
   ],
   "source": [
    "x = [1,2,3,4,5,6,7,8,9]\n",
    "y = list(map(lambda x: x**3,x))\n",
    "print(\"cubes:\",y)\n"
   ]
  },
  {
   "cell_type": "markdown",
   "id": "33facfe2-578b-45b6-a77a-d3cd87d15520",
   "metadata": {},
   "source": [
    "##### 6. Create a class Employee that increases salary by 10%.\n"
   ]
  },
  {
   "cell_type": "code",
   "execution_count": 59,
   "id": "1f3970c3-c8bd-42a9-af23-fdb5410509e8",
   "metadata": {},
   "outputs": [],
   "source": [
    "class employee:\n",
    "    def __init__(self,name,salary):\n",
    "        self.name = name \n",
    "        self.salary = salary\n",
    "    def increment(self):\n",
    "        self.salary *= 1.1\n",
    "        print(\"new salary: \",self.salary)\n",
    "    "
   ]
  },
  {
   "cell_type": "code",
   "execution_count": 62,
   "id": "02eb098f-1580-4ce7-a60c-d2966201e736",
   "metadata": {},
   "outputs": [
    {
     "name": "stdout",
     "output_type": "stream",
     "text": [
      "new salary:  55000.00000000001\n"
     ]
    }
   ],
   "source": [
    "s = employee(\"akshit\",50000)\n",
    "s.increment()"
   ]
  },
  {
   "cell_type": "markdown",
   "id": "3207c7a6-c489-4aca-8e29-c5da62fa0740",
   "metadata": {},
   "source": [
    "##### 7. Write a program to print the date 30 days from today. \n"
   ]
  },
  {
   "cell_type": "code",
   "execution_count": 71,
   "id": "1efd1b6b-c2f6-4063-9466-0e181c17f0ad",
   "metadata": {},
   "outputs": [
    {
     "name": "stdout",
     "output_type": "stream",
     "text": [
      "2025-10-16\n"
     ]
    }
   ],
   "source": [
    "import datetime\n",
    "from datetime import date\n",
    "from datetime import timedelta\n",
    "today = datetime.datetime.now\n",
    "date1 = date.today() + timedelta(days=30)\n",
    "print(date1)"
   ]
  },
  {
   "cell_type": "markdown",
   "id": "3a5bac66-2bef-4123-8a82-9086cb06ba2f",
   "metadata": {},
   "source": [
    "##### 8. Write a program to convert radians to degrees and vice versa."
   ]
  },
  {
   "cell_type": "code",
   "execution_count": 49,
   "id": "5b78a311-c57e-446b-9bc4-eb147309b7f7",
   "metadata": {},
   "outputs": [
    {
     "name": "stdout",
     "output_type": "stream",
     "text": [
      "degree 180.0\n",
      "radian 3.141592653589793\n"
     ]
    }
   ],
   "source": [
    "import math\n",
    "print(\"degree\", math.degrees(math.pi))\n",
    "print(\"radian\", math.radians(180))"
   ]
  },
  {
   "cell_type": "markdown",
   "id": "9a6fbc4a-dd68-49a6-9617-132522cc0061",
   "metadata": {},
   "source": [
    "##### 9.  Write a regex to validate if a string is a valid Indian mobile number (10 digits)."
   ]
  },
  {
   "cell_type": "markdown",
   "id": "021e85ce-44da-4aa0-bf7c-589fc43465a1",
   "metadata": {},
   "source": [
    "##### 10. Create a class Bank with encapsulated methods to show account details securely. "
   ]
  },
  {
   "cell_type": "code",
   "execution_count": 113,
   "id": "a8a4c309-b0ff-4e6c-a48c-01d1a096dbc6",
   "metadata": {},
   "outputs": [],
   "source": [
    "class bank:\n",
    "    def __init__(self,balance):\n",
    "        self.__balance = balance\n",
    "        \n",
    "    def deposit(self,amount):\n",
    "        self.__balance += amount\n",
    "        print(\"balance:\",self.__balance)\n",
    "\n",
    "    def withdrawn(self,amount):\n",
    "       if self.__balance > 0:\n",
    "           self.__balance -= amount\n",
    "           print(\"balance:\",self.__balance)\n"
   ]
  },
  {
   "cell_type": "code",
   "execution_count": 114,
   "id": "fb182cfd-7fd7-40f5-843a-d72d82f9a845",
   "metadata": {},
   "outputs": [
    {
     "name": "stdout",
     "output_type": "stream",
     "text": [
      "balance: 5500\n",
      "balance: 5000\n"
     ]
    }
   ],
   "source": [
    "d = bank(5000)\n",
    "d.deposit(500)\n",
    "d.withdrawn(500)"
   ]
  },
  {
   "cell_type": "code",
   "execution_count": null,
   "id": "46d9713d-6d10-412a-a4d8-b65e50d5bd87",
   "metadata": {},
   "outputs": [],
   "source": []
  },
  {
   "cell_type": "code",
   "execution_count": null,
   "id": "4343944d-9e7e-4930-bf27-1fb84dadb410",
   "metadata": {},
   "outputs": [],
   "source": []
  }
 ],
 "metadata": {
  "kernelspec": {
   "display_name": "Python [conda env:base] *",
   "language": "python",
   "name": "conda-base-py"
  },
  "language_info": {
   "codemirror_mode": {
    "name": "ipython",
    "version": 3
   },
   "file_extension": ".py",
   "mimetype": "text/x-python",
   "name": "python",
   "nbconvert_exporter": "python",
   "pygments_lexer": "ipython3",
   "version": "3.13.5"
  }
 },
 "nbformat": 4,
 "nbformat_minor": 5
}
